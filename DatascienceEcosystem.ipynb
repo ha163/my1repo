{
 "cells": [
  {
   "cell_type": "markdown",
   "id": "3a996958",
   "metadata": {},
   "source": [
    "# Data Science Tools and Ecosystem"
   ]
  },
  {
   "cell_type": "markdown",
   "id": "62d08b4d",
   "metadata": {},
   "source": [
    "This notebook summerizes the topic Data science Tools and Ecosystem"
   ]
  },
  {
   "cell_type": "markdown",
   "id": "26007067",
   "metadata": {},
   "source": [
    "__Objectives:__\n",
    "* popular languages for data science\n",
    "* libraries for data science\n",
    "* data science tools\n",
    "* Arithmatic expressions"
   ]
  },
  {
   "cell_type": "markdown",
   "id": "d9ac1c6f",
   "metadata": {},
   "source": [
    "**Some of the most popular languages that Data scienctists use are:**\n",
    "1. Python\n",
    "2. R\n",
    "3. SQL\n",
    "4. Java\n",
    "5. C++,C\n",
    "6. julia"
   ]
  },
  {
   "cell_type": "markdown",
   "id": "01baddf2",
   "metadata": {},
   "source": [
    "__Some of the most commonly used libraries by Data Scientists include:__\n",
    "1. Pandas\n",
    "2. NumPy\n",
    "3. Mathplotlib\n",
    "4. tensorFlow\n"
   ]
  },
  {
   "cell_type": "markdown",
   "id": "82e078a9",
   "metadata": {},
   "source": [
    "some of the data science tools:\n",
    "|Data Science Tools|\n",
    "|-----|\n",
    "|MySQL|\n",
    "|Apache SparkSQL|\n",
    "|Kibana|"
   ]
  },
  {
   "cell_type": "markdown",
   "id": "63d40a40",
   "metadata": {},
   "source": [
    "### Below are a few examples of evaluating arithmetic expressions in Python"
   ]
  },
  {
   "cell_type": "code",
   "execution_count": 1,
   "id": "a5593ee6",
   "metadata": {},
   "outputs": [
    {
     "data": {
      "text/plain": [
       "17"
      ]
     },
     "execution_count": 1,
     "metadata": {},
     "output_type": "execute_result"
    }
   ],
   "source": [
    "## this multiplys and then adds \n",
    "(3*4)+5"
   ]
  },
  {
   "cell_type": "code",
   "execution_count": 2,
   "id": "dcf8f769",
   "metadata": {
    "scrolled": true
   },
   "outputs": [
    {
     "name": "stdout",
     "output_type": "stream",
     "text": [
      "200 min to hours is 3.3333333333333335\n"
     ]
    }
   ],
   "source": [
    "## This will convert 200 minutes to hours by diving by 60\n",
    "print(\"200 min to hours is\", 200/60)"
   ]
  },
  {
   "cell_type": "markdown",
   "id": "1151b89c",
   "metadata": {},
   "source": [
    "## Author:\n",
    "\n",
    "Hamus Faisal"
   ]
  }
 ],
 "metadata": {
  "kernelspec": {
   "display_name": "Python 3 (ipykernel)",
   "language": "python",
   "name": "python3"
  },
  "language_info": {
   "codemirror_mode": {
    "name": "ipython",
    "version": 3
   },
   "file_extension": ".py",
   "mimetype": "text/x-python",
   "name": "python",
   "nbconvert_exporter": "python",
   "pygments_lexer": "ipython3",
   "version": "3.9.17"
  }
 },
 "nbformat": 4,
 "nbformat_minor": 5
}
